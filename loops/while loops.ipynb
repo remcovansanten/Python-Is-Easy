{
 "cells": [
  {
   "cell_type": "markdown",
   "metadata": {
    "collapsed": true,
    "pycharm": {
     "name": "#%% md\n"
    }
   },
   "source": [
    "# While Loops Lecture\n",
    " -*- coding: utf-8 -*-\n",
    "\n",
    "While Loops\n",
    "Syntax:\n",
    "\n",
    "    while condition:\n",
    "\n",
    "        Action1\n",
    "\n",
    "        Action2\n",
    "\n",
    "        ACtion3\n",
    "\n",
    "\n",
    "The while loop runs until the condition is True, updates the counter, prints the counter.\n",
    "It comes out of the loop if the condition fails."
   ]
  },
  {
   "cell_type": "code",
   "execution_count": null,
   "metadata": {
    "pycharm": {
     "name": "#%%\n"
    }
   },
   "outputs": [],
   "source": [
    "counter = 1                       # set counter variable equal to 1\n",
    "\n",
    "while (counter <= 10):            # checks condition\n",
    "    print(counter),               # print value of counter\n",
    "    counter = counter + 1         # increments counter by 1"
   ]
  },
  {
   "cell_type": "code",
   "execution_count": 1,
   "metadata": {
    "pycharm": {
     "name": "#%%\n"
    }
   },
   "outputs": [
    {
     "name": "stdout",
     "output_type": "stream",
     "text": [
      "1\n",
      "2\n",
      "3\n",
      "4\n",
      "5\n",
      "6\n",
      "7\n",
      "8\n",
      "9\n",
      "10\n",
      "55\n"
     ]
    }
   ],
   "source": [
    "counter = 1                       # sets counter variable equal to 1\n",
    "Sum = 0                           # initialize sum to 0\n",
    "while (counter <= 10):            # checks condition\n",
    "    print(counter)                # print value of counter\n",
    "    Sum = Sum + counter           # add sum and counter value\n",
    "    counter = counter + 1         # increments counter by 1\n",
    "print(Sum)                        # print the value of sum"
   ]
  },
  {
   "cell_type": "markdown",
   "metadata": {
    "pycharm": {
     "name": "#%% md\n"
    }
   },
   "source": [
    "## print the sum of values from 1 to 100"
   ]
  },
  {
   "cell_type": "code",
   "execution_count": null,
   "metadata": {
    "pycharm": {
     "name": "#%%\n"
    }
   },
   "outputs": [],
   "source": [
    "#counter = 1                       # set counter equal to 1\n",
    "Sum = 0                           # intialize sum to 0\n",
    "while (counter <= 20):            # check the value of counter until it is less than or equal to 100\n",
    "    print(counter)                # print the value of counter\n",
    "    Sum = Sum + counter           # add the sum and counter\n",
    "    counter = counter + 1         # increment counter by 1\n",
    "print(Sum)                        # print Sum"
   ]
  },
  {
   "cell_type": "code",
   "execution_count": 3,
   "metadata": {
    "pycharm": {
     "name": "#%%\n"
    }
   },
   "outputs": [
    {
     "name": "stdout",
     "output_type": "stream",
     "text": [
      "1\n",
      "2\n",
      "3\n",
      "4\n",
      "5\n",
      "6\n",
      "7\n",
      "8\n",
      "9\n",
      "10\n",
      "11\n",
      "12\n",
      "13\n",
      "14\n",
      "15\n",
      "16\n",
      "17\n",
      "18\n",
      "19\n",
      "20\n",
      "21\n",
      "22\n",
      "23\n",
      "24\n",
      "25\n",
      "26\n",
      "27\n",
      "28\n",
      "29\n",
      "30\n",
      "31\n",
      "32\n",
      "33\n",
      "34\n",
      "35\n",
      "36\n",
      "37\n",
      "38\n",
      "39\n",
      "40\n",
      "41\n",
      "42\n",
      "43\n",
      "44\n",
      "45\n",
      "46\n",
      "47\n",
      "48\n",
      "49\n",
      "50\n",
      "51\n",
      "52\n",
      "53\n",
      "54\n",
      "55\n",
      "56\n",
      "57\n",
      "58\n",
      "59\n",
      "60\n",
      "61\n",
      "62\n",
      "63\n",
      "64\n",
      "65\n",
      "66\n",
      "67\n",
      "68\n",
      "69\n",
      "70\n",
      "71\n",
      "72\n",
      "73\n",
      "74\n",
      "75\n",
      "76\n",
      "77\n",
      "78\n",
      "79\n",
      "80\n",
      "81\n",
      "82\n",
      "83\n",
      "84\n",
      "85\n",
      "86\n",
      "87\n",
      "88\n",
      "89\n",
      "90\n",
      "91\n",
      "92\n",
      "93\n",
      "94\n",
      "95\n",
      "96\n",
      "97\n",
      "98\n",
      "99\n",
      "100\n",
      "5050\n"
     ]
    }
   ],
   "source": [
    "KeepTrack = 1\n",
    "Sum = 0\n",
    "while (KeepTrack <= 100):\n",
    "    print(KeepTrack)\n",
    "    Sum = Sum + KeepTrack\n",
    "    KeepTrack = KeepTrack + 1\n",
    "print(Sum)"
   ]
  },
  {
   "cell_type": "code",
   "execution_count": 4,
   "metadata": {
    "pycharm": {
     "name": "#%%\n"
    }
   },
   "outputs": [
    {
     "name": "stdout",
     "output_type": "stream",
     "text": [
      "0\n",
      "a\n",
      "1\n",
      "b\n",
      "2\n",
      "c\n",
      "3\n",
      "d\n",
      "4\n",
      "e\n"
     ]
    }
   ],
   "source": [
    "Letters = [\"a\", \"b\", \"c\", \"d\", \"e\"]       # initialize a list with 5 character elements\n",
    "Index = 0                                 # set index equal to 0\n",
    "while (Index < len(Letters)):             # Compare variable Index with length of list\n",
    "    print(Index)                          # print value of Index\n",
    "    print(Letters[Index])                 # print each element in a List\n",
    "    Index = Index + 1                     # Increment value of Index by 1."
   ]
  },
  {
   "cell_type": "markdown",
   "metadata": {
    "pycharm": {
     "name": "#%% md\n"
    }
   },
   "source": [
    "Starts from Index 4. Since the length of list is equal to 5.\n",
    "The loop runs only once and prints the last element only."
   ]
  },
  {
   "cell_type": "code",
   "execution_count": 5,
   "metadata": {
    "pycharm": {
     "name": "#%%\n"
    }
   },
   "outputs": [
    {
     "ename": "SyntaxError",
     "evalue": "invalid syntax (<ipython-input-5-d709614dc39b>, line 8)",
     "output_type": "error",
     "traceback": [
      "\u001B[0;36m  File \u001B[0;32m\"<ipython-input-5-d709614dc39b>\"\u001B[0;36m, line \u001B[0;32m8\u001B[0m\n\u001B[0;31m    The code below does not print anything since the loop starts from 5 and condition does not meet.\u001B[0m\n\u001B[0m        ^\u001B[0m\n\u001B[0;31mSyntaxError\u001B[0m\u001B[0;31m:\u001B[0m invalid syntax\n"
     ]
    }
   ],
   "source": [
    "Index = 4                               # set index equal to 4\n",
    "while (Index < len(Letters)):           # Compare variable Index with length of list\n",
    "    print(Index)                        # print value of Index\n",
    "    print(Letters[Index])               # print each element in a List\n",
    "    Index = Index + 1                   # Increment value of Index by 1."
   ]
  },
  {
   "cell_type": "markdown",
   "source": [
    "The code below does not print anything since the loop starts from 5 and condition does not meet."
   ],
   "metadata": {
    "collapsed": false
   }
  },
  {
   "cell_type": "code",
   "execution_count": 6,
   "metadata": {
    "pycharm": {
     "name": "#%%\n"
    }
   },
   "outputs": [
    {
     "ename": "SyntaxError",
     "evalue": "invalid syntax (<ipython-input-6-92aed16cff4c>, line 3)",
     "output_type": "error",
     "traceback": [
      "\u001B[0;36m  File \u001B[0;32m\"<ipython-input-6-92aed16cff4c>\"\u001B[0;36m, line \u001B[0;32m3\u001B[0m\n\u001B[0;31m    print(Index, ': ' Letters[Index])\u001B[0m\n\u001B[0m                      ^\u001B[0m\n\u001B[0;31mSyntaxError\u001B[0m\u001B[0;31m:\u001B[0m invalid syntax\n"
     ]
    }
   ],
   "source": [
    "Index = 5\n",
    "while (Index < len(Letters)):\n",
    "    print(Index, ': ' Letters[Index])\n",
    "    Index = Index + 1"
   ]
  },
  {
   "cell_type": "code",
   "execution_count": 7,
   "metadata": {
    "pycharm": {
     "name": "#%%\n"
    }
   },
   "outputs": [
    {
     "name": "stdout",
     "output_type": "stream",
     "text": [
      "0\n",
      "100\n"
     ]
    }
   ],
   "source": [
    "height = 5000                        # set variable height equal to 5000.\n",
    "velocity = 50                        # set variable velocity equal to 50\n",
    "time = 0                             # set variable time equal to 0\n",
    "while (height > 0):                  # check if variable height > 0\n",
    "    height = height - velocity       # decrement height with velocity and assign the value to height.\n",
    "    time = time + 1                  # increment time by value 1\n",
    "\n",
    "print(height)                        # print value of height\n",
    "print(time)                          # print value of time\n"
   ]
  }
 ],
 "metadata": {
  "kernelspec": {
   "display_name": "Python 3",
   "language": "python",
   "name": "python3"
  },
  "language_info": {
   "codemirror_mode": {
    "name": "ipython",
    "version": 3
   },
   "file_extension": ".py",
   "mimetype": "text/x-python",
   "name": "python",
   "nbconvert_exporter": "python",
   "pygments_lexer": "ipython3",
   "version": "3.9.0"
  }
 },
 "nbformat": 4,
 "nbformat_minor": 1
}